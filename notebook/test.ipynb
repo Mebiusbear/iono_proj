{
 "cells": [
  {
   "cell_type": "code",
   "execution_count": 1,
   "metadata": {},
   "outputs": [],
   "source": [
    "import matplotlib.pyplot as plt\n",
    "import numpy as np\n",
    "import os\n",
    "import src.apps.ionox as ionox\n",
    "\n",
    "from src.apps.normalized_legendre import normalize_pkm\n",
    "from src.apps.least_square import least_square\n",
    "from src.apps.spherical_harmonic import (spherical_triangle_transform,\n",
    "                                zip_point,\n",
    "                                # concor_dataset,\n",
    "                                fit_spherical_harmonic)"
   ]
  },
  {
   "cell_type": "code",
   "execution_count": 21,
   "metadata": {},
   "outputs": [
    {
     "name": "stdout",
     "output_type": "stream",
     "text": [
      "lon_select_point :  [ 70.  75.  80.  85.  90.  95. 100. 105. 110. 115. 120. 125. 130. 135.\n",
      " 140.]\n",
      "lat_select_point :  [ -2.5  -5.   -7.5 -10.  -12.5 -15.  -17.5 -20.  -22.5 -25.  -27.5 -30.\n",
      " -32.5 -35.  -37.5]\n"
     ]
    }
   ],
   "source": [
    "data_dir = \"../data\"\n",
    "filename = os.path.join(data_dir,\"CODG%03d0.22I\"%(10))\n",
    "\n",
    "range_size = 15\n",
    "lon_start = 50\n",
    "lon_end = lon_start+range_size\n",
    "lat_start = 36\n",
    "lat_end = lat_start+range_size\n",
    "\n",
    "# range_size = 30\n",
    "# lon_start = 20\n",
    "# lon_end = lon_start+range_size\n",
    "# lat_start = 16\n",
    "# lat_end = lat_start+range_size\n",
    "\n",
    "tecarray, _, lonarray, latarray, _ = ionox.read_tec_file(filename)\n",
    "tec_dataset = tecarray[6][lon_start:lon_end,lat_start:lat_end] # 第18时序，(2.5-52.5N，70-135E)\n",
    "ydata = tec_dataset.reshape(1,-1)[0]\n",
    "ydata = np.array(ydata,dtype=np.float64)\n",
    "\n",
    "lon_dataset = lonarray[lon_start:lon_end]   # new\n",
    "lat_dataset = latarray[lat_start:lat_end]   # new\n",
    "\n",
    "print (\"lon_select_point : \",lon_dataset)\n",
    "print (\"lat_select_point : \",lat_dataset)\n"
   ]
  },
  {
   "cell_type": "code",
   "execution_count": 22,
   "metadata": {},
   "outputs": [
    {
     "data": {
      "text/plain": [
       "<matplotlib.colorbar.Colorbar at 0x7f3bc2390490>"
      ]
     },
     "execution_count": 22,
     "metadata": {},
     "output_type": "execute_result"
    },
    {
     "data": {
      "image/png": "[encoded data removed]",
      "text/plain": [
       "<Figure size 432x288 with 2 Axes>"
      ]
     },
     "metadata": {
      "needs_background": "light"
     },
     "output_type": "display_data"
    }
   ],
   "source": [
    "plt.imshow(ydata.reshape(range_size,range_size))\n",
    "plt.colorbar()"
   ]
  },
  {
   "cell_type": "code",
   "execution_count": null,
   "metadata": {},
   "outputs": [],
   "source": []
  }
 ],
 "metadata": {
  "kernelspec": {
   "display_name": "Python 3.7.12 ('testdask')",
   "language": "python",
   "name": "python3"
  },
  "language_info": {
   "codemirror_mode": {
    "name": "ipython",
    "version": 3
   },
   "file_extension": ".py",
   "mimetype": "text/x-python",
   "name": "python",
   "nbconvert_exporter": "python",
   "pygments_lexer": "ipython3",
   "version": "3.7.12"
  },
  "orig_nbformat": 4,
  "vscode": {
   "interpreter": {
    "hash": "fe11c7f773197fefc80333d39f14b4dfda636fcb1542ad81e0798c724787e0df"
   }
  }
 },
 "nbformat": 4,
 "nbformat_minor": 2
}
