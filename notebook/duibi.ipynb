{
 "cells": [
  {
   "cell_type": "code",
   "execution_count": 8,
   "metadata": {},
   "outputs": [],
   "source": [
    "import numpy as np\n",
    "import matplotlib.pyplot as plt"
   ]
  },
  {
   "cell_type": "code",
   "execution_count": 12,
   "metadata": {},
   "outputs": [
    {
     "data": {
      "text/plain": [
       "True"
      ]
     },
     "execution_count": 12,
     "metadata": {},
     "output_type": "execute_result"
    }
   ],
   "source": [
    "a = np.load(\"../results/arch_cpp/pixel_1000_step_6_scale_200.npy\")\n",
    "b = np.load(\"../results/arch_python/pixel_1000_step_6_scale_200.npy\")\n",
    "np.allclose(a,b)"
   ]
  },
  {
   "cell_type": "code",
   "execution_count": 10,
   "metadata": {},
   "outputs": [
    {
     "data": {
      "text/plain": [
       "<matplotlib.colorbar.Colorbar at 0x7f02dcd6f350>"
      ]
     },
     "execution_count": 10,
     "metadata": {},
     "output_type": "execute_result"
    },
    {
     "data": {
      "image/png": "[encoded data removed]",
      "text/plain": [
       "<Figure size 432x288 with 2 Axes>"
      ]
     },
     "metadata": {
      "needs_background": "light"
     },
     "output_type": "display_data"
    }
   ],
   "source": [
    "plt.imshow(a)\n",
    "plt.colorbar()"
   ]
  },
  {
   "cell_type": "code",
   "execution_count": 11,
   "metadata": {},
   "outputs": [
    {
     "data": {
      "text/plain": [
       "<matplotlib.colorbar.Colorbar at 0x7f02dcc91b50>"
      ]
     },
     "execution_count": 11,
     "metadata": {},
     "output_type": "execute_result"
    },
    {
     "data": {
      "image/png": "[encoded data removed]",
      "text/plain": [
       "<Figure size 432x288 with 2 Axes>"
      ]
     },
     "metadata": {
      "needs_background": "light"
     },
     "output_type": "display_data"
    }
   ],
   "source": [
    "plt.imshow(b)\n",
    "plt.colorbar()\n"
   ]
  },
  {
   "cell_type": "code",
   "execution_count": 2,
   "metadata": {},
   "outputs": [],
   "source": [
    "from src.apps.legendre import normalize\n",
    "import numpy as np\n",
    "from src.apps.normalized_legendre import normalize_pkm"
   ]
  },
  {
   "cell_type": "code",
   "execution_count": 5,
   "metadata": {},
   "outputs": [
    {
     "name": "stdout",
     "output_type": "stream",
     "text": [
      "1.8871559012013894\n",
      "1.8871559012013894\n"
     ]
    }
   ],
   "source": [
    "print (normalize_pkm(4,2,np.float64(0.554455555)))\n",
    "print (normalize(4,2,np.float64(0.554455555)))"
   ]
  },
  {
   "cell_type": "code",
   "execution_count": 9,
   "metadata": {},
   "outputs": [
    {
     "data": {
      "text/plain": [
       "float"
      ]
     },
     "execution_count": 9,
     "metadata": {},
     "output_type": "execute_result"
    }
   ],
   "source": [
    "type(normalize(3,2,np.float64(0.5)))"
   ]
  },
  {
   "cell_type": "code",
   "execution_count": 4,
   "metadata": {},
   "outputs": [],
   "source": [
    "num = np.float64(0.5222254222)\n",
    "num_cos = np.cos(num)"
   ]
  },
  {
   "cell_type": "code",
   "execution_count": 5,
   "metadata": {},
   "outputs": [
    {
     "data": {
      "text/plain": [
       "numpy.float64"
      ]
     },
     "execution_count": 5,
     "metadata": {},
     "output_type": "execute_result"
    }
   ],
   "source": [
    "type(num_cos)"
   ]
  },
  {
   "cell_type": "code",
   "execution_count": 19,
   "metadata": {},
   "outputs": [
    {
     "data": {
      "text/plain": [
       "8.455220771625807"
      ]
     },
     "execution_count": 19,
     "metadata": {},
     "output_type": "execute_result"
    }
   ],
   "source": [
    "import numpy as np\n",
    "import math\n",
    "def caculate_nkm(k,m): # right\n",
    "    if m == 0:\n",
    "        delta_0m = 1\n",
    "    else:\n",
    "        delta_0m = 0\n",
    "    nkm = np.float64()\n",
    "    nkm = (2-delta_0m) * (2*k+1) * math.factorial(k-m) / math.factorial(k+m)\n",
    "    return np.sqrt(nkm)\n",
    "\n",
    "def caculate_pkm(k,m,theta):\n",
    "    if m == 0:\n",
    "        if k == 0:\n",
    "            return 1\n",
    "        if k == 1:\n",
    "            return np.cos(theta)\n",
    "        if k > 1:\n",
    "            factory_1 = caculate_pkm(k-1,m,theta)*np.cos(theta)*(2*k-1)\n",
    "            factory_2 = caculate_pkm(k-2,m,theta)*(k-1)\n",
    "            return (factory_1-factory_2) / k\n",
    "    elif m >= 1:\n",
    "        factory_1 = caculate_pkm(k-1,m-1,theta)*(k+m-1)\n",
    "        factory_2 = caculate_pkm(k,m-1,theta)*np.cos(theta)*(k-m+1)\n",
    "        return (factory_1-factory_2) / np.sqrt(1-np.power(np.cos(theta),2))\n",
    "\n",
    "def normalize_pkm(k,m,theta):\n",
    "    return caculate_nkm(k,m) * caculate_pkm(k,m,theta)\n",
    "\n",
    "theta = np.float64(0.555555)\n",
    "# caculate_nkm(4,2)\n",
    "caculate_pkm(4,2,theta)"
   ]
  },
  {
   "cell_type": "code",
   "execution_count": 17,
   "metadata": {},
   "outputs": [
    {
     "data": {
      "text/plain": [
       "0.8496078558579443"
      ]
     },
     "execution_count": 17,
     "metadata": {},
     "output_type": "execute_result"
    }
   ],
   "source": [
    "caculate_pkm(2,0,theta)\n",
    "# caculate_pkm(2,0,theta)"
   ]
  },
  {
   "cell_type": "code",
   "execution_count": 13,
   "metadata": {},
   "outputs": [
    {
     "data": {
      "text/plain": [
       "0.8496078558579443"
      ]
     },
     "execution_count": 13,
     "metadata": {},
     "output_type": "execute_result"
    }
   ],
   "source": [
    "np.cos(theta)"
   ]
  },
  {
   "cell_type": "code",
   "execution_count": null,
   "metadata": {},
   "outputs": [],
   "source": []
  }
 ],
 "metadata": {
  "kernelspec": {
   "display_name": "Python 3.7.12 ('testdask')",
   "language": "python",
   "name": "python3"
  },
  "language_info": {
   "codemirror_mode": {
    "name": "ipython",
    "version": 3
   },
   "file_extension": ".py",
   "mimetype": "text/x-python",
   "name": "python",
   "nbconvert_exporter": "python",
   "pygments_lexer": "ipython3",
   "version": "3.7.12"
  },
  "orig_nbformat": 4,
  "vscode": {
   "interpreter": {
    "hash": "fe11c7f773197fefc80333d39f14b4dfda636fcb1542ad81e0798c724787e0df"
   }
  }
 },
 "nbformat": 4,
 "nbformat_minor": 2
}
